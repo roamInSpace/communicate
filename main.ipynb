{
 "cells": [
  {
   "cell_type": "code",
   "execution_count": 2,
   "metadata": {},
   "outputs": [],
   "source": [
    "import os"
   ]
  },
  {
   "cell_type": "code",
   "execution_count": 3,
   "metadata": {},
   "outputs": [
    {
     "ename": "TypeError",
     "evalue": "get_data_train() takes 1 positional argument but 2 were given",
     "output_type": "error",
     "traceback": [
      "\u001b[0;31m---------------------------------------------------------------------------\u001b[0m",
      "\u001b[0;31mTypeError\u001b[0m                                 Traceback (most recent call last)",
      "\u001b[1;32m/root/autodl-nas/communicate/main.ipynb Cell 2\u001b[0m in \u001b[0;36m<cell line: 7>\u001b[0;34m()\u001b[0m\n\u001b[1;32m      <a href='vscode-notebook-cell://ssh-remote%2Bregion-11.autodl.com/root/autodl-nas/communicate/main.ipynb#W2sdnNjb2RlLXJlbW90ZQ%3D%3D?line=4'>5</a>\u001b[0m \u001b[39mif\u001b[39;00m \u001b[39mnot\u001b[39;00m os\u001b[39m.\u001b[39mpath\u001b[39m.\u001b[39mexists(path):\n\u001b[1;32m      <a href='vscode-notebook-cell://ssh-remote%2Bregion-11.autodl.com/root/autodl-nas/communicate/main.ipynb#W2sdnNjb2RlLXJlbW90ZQ%3D%3D?line=5'>6</a>\u001b[0m     UnZip(\u001b[39m\"\u001b[39m\u001b[39m/root/autodl-pub/cifar-10/cifar-10-python.tar.gz\u001b[39m\u001b[39m\"\u001b[39m, \u001b[39m\"\u001b[39m\u001b[39m/root/autodl-nas/data/cifar10\u001b[39m\u001b[39m\"\u001b[39m)\n\u001b[0;32m----> <a href='vscode-notebook-cell://ssh-remote%2Bregion-11.autodl.com/root/autodl-nas/communicate/main.ipynb#W2sdnNjb2RlLXJlbW90ZQ%3D%3D?line=6'>7</a>\u001b[0m train_loader, ttest_loader, valid_loader \u001b[39m=\u001b[39m get_loaders(\n\u001b[1;32m      <a href='vscode-notebook-cell://ssh-remote%2Bregion-11.autodl.com/root/autodl-nas/communicate/main.ipynb#W2sdnNjb2RlLXJlbW90ZQ%3D%3D?line=7'>8</a>\u001b[0m     path, \u001b[39m32\u001b[39;49m, get_data_train, [\u001b[39m0\u001b[39;49m, \u001b[39m1\u001b[39;49m],\n\u001b[1;32m      <a href='vscode-notebook-cell://ssh-remote%2Bregion-11.autodl.com/root/autodl-nas/communicate/main.ipynb#W2sdnNjb2RlLXJlbW90ZQ%3D%3D?line=8'>9</a>\u001b[0m     get_data_va\u001b[39m=\u001b[39;49mget_data_valid, \n\u001b[1;32m     <a href='vscode-notebook-cell://ssh-remote%2Bregion-11.autodl.com/root/autodl-nas/communicate/main.ipynb#W2sdnNjb2RlLXJlbW90ZQ%3D%3D?line=9'>10</a>\u001b[0m     get_data_tt\u001b[39m=\u001b[39;49mget_data_ttest, \n\u001b[1;32m     <a href='vscode-notebook-cell://ssh-remote%2Bregion-11.autodl.com/root/autodl-nas/communicate/main.ipynb#W2sdnNjb2RlLXJlbW90ZQ%3D%3D?line=10'>11</a>\u001b[0m )\n",
      "File \u001b[0;32m~/autodl-nas/communicate/this_data.py:18\u001b[0m, in \u001b[0;36mget_loaders\u001b[0;34m(path, batch_size, get_data_tr, clas, get_data_va, get_data_tt, random, ratio)\u001b[0m\n\u001b[1;32m     14\u001b[0m \u001b[39mdef\u001b[39;00m \u001b[39mget_loaders\u001b[39m(path, batch_size, get_data_tr, clas, \n\u001b[1;32m     15\u001b[0m     get_data_va\u001b[39m=\u001b[39m\u001b[39mNone\u001b[39;00m, get_data_tt\u001b[39m=\u001b[39m\u001b[39mNone\u001b[39;00m, \n\u001b[1;32m     16\u001b[0m     random\u001b[39m=\u001b[39m\u001b[39mTrue\u001b[39;00m, ratio\u001b[39m=\u001b[39m[\u001b[39m0.6\u001b[39m, \u001b[39m0.2\u001b[39m, \u001b[39m0.2\u001b[39m], \n\u001b[1;32m     17\u001b[0m ):\n\u001b[0;32m---> 18\u001b[0m     da, la \u001b[39m=\u001b[39m get_datas(path, get_data_tr, clas)\n\u001b[1;32m     19\u001b[0m     \u001b[39mif\u001b[39;00m get_data_tt \u001b[39mis\u001b[39;00m \u001b[39mNone\u001b[39;00m \u001b[39mand\u001b[39;00m get_data_va \u001b[39mis\u001b[39;00m \u001b[39mNone\u001b[39;00m:\n\u001b[1;32m     20\u001b[0m         lengths \u001b[39m=\u001b[39m [\u001b[39mint\u001b[39m(da\u001b[39m.\u001b[39mshape[\u001b[39m0\u001b[39m]\u001b[39m*\u001b[39mi) \u001b[39mfor\u001b[39;00m i \u001b[39min\u001b[39;00m ratio]\n",
      "File \u001b[0;32m~/autodl-nas/communicate/this_data.py:7\u001b[0m, in \u001b[0;36mget_datas\u001b[0;34m(path, get_data, clas)\u001b[0m\n\u001b[1;32m      5\u001b[0m labels \u001b[39m=\u001b[39m torch\u001b[39m.\u001b[39mTensor()\u001b[39m.\u001b[39mtype(torch\u001b[39m.\u001b[39mLongTensor)\n\u001b[1;32m      6\u001b[0m \u001b[39mfor\u001b[39;00m cla \u001b[39min\u001b[39;00m clas:\n\u001b[0;32m----> 7\u001b[0m     data, label \u001b[39m=\u001b[39m get_data(path, cla)\n\u001b[1;32m      8\u001b[0m     data \u001b[39m=\u001b[39m torch\u001b[39m.\u001b[39mTensor(data)\u001b[39m.\u001b[39mtype(torch\u001b[39m.\u001b[39mFloatTensor)\n\u001b[1;32m      9\u001b[0m     label \u001b[39m=\u001b[39m torch\u001b[39m.\u001b[39mTensor(label)\u001b[39m.\u001b[39mtype(torch\u001b[39m.\u001b[39mLongTensor)\n",
      "\u001b[0;31mTypeError\u001b[0m: get_data_train() takes 1 positional argument but 2 were given"
     ]
    }
   ],
   "source": [
    "from this_cifar10 import UnZip, get_data_train, get_data_valid, get_data_ttest\n",
    "from this_data import get_loaders\n",
    "from this_model import CNN1\n",
    "path = \"/root/autodl-nas/data/cifar10/cifar-10-batches-py\"\n",
    "if not os.path.exists(path):\n",
    "    UnZip(\"/root/autodl-pub/cifar-10/cifar-10-python.tar.gz\", \"/root/autodl-nas/data/cifar10\")\n",
    "train_loader, ttest_loader, valid_loader = get_loaders(\n",
    "    path, 32, get_data_train, \n",
    "    get_data_va=get_data_valid, \n",
    "    get_data_tt=get_data_ttest, \n",
    ")\n",
    "\n",
    "# NNs = [\n",
    "#     CNN1, CNN2, CNN3, CNN4, CNN5, CNN6, \n",
    "# ]\n",
    "# lei = 0\n",
    "# for NN in NNs:\n",
    "#     lei += 1\n",
    "#     path_save = os.path.join(path, 'CNN'+str(lei))\n",
    "#     if not(os.path.exists(path_save)):\n",
    "#         os.makedirs(path_save)\n",
    "#     model = NN(1, 2)\n",
    "#     print(get_parameter_number(model))\n",
    "#     torch.cuda.set_device(0)\n",
    "#     device = torch.device('cuda')\n",
    "#     model.to(device)\n",
    "#     model_best, train_evas, valid_evas, ttest_details = train(\n",
    "#         device, model, 0.001, train_loader, \n",
    "#         valid_loader, [ttest_loader], \n",
    "#     )\n",
    "#     save_inf(path_save, model_best, train_evas, valid_evas, ttest_details[0])"
   ]
  },
  {
   "cell_type": "code",
   "execution_count": null,
   "metadata": {},
   "outputs": [],
   "source": [
    "model = CNN1(1, 2)"
   ]
  }
 ],
 "metadata": {
  "kernelspec": {
   "display_name": "Python 3.8.10 ('base': conda)",
   "language": "python",
   "name": "python3"
  },
  "language_info": {
   "codemirror_mode": {
    "name": "ipython",
    "version": 3
   },
   "file_extension": ".py",
   "mimetype": "text/x-python",
   "name": "python",
   "nbconvert_exporter": "python",
   "pygments_lexer": "ipython3",
   "version": "3.8.10"
  },
  "orig_nbformat": 4,
  "vscode": {
   "interpreter": {
    "hash": "2f394aca7ca06fed1e6064aef884364492d7cdda3614a461e02e6407fc40ba69"
   }
  }
 },
 "nbformat": 4,
 "nbformat_minor": 2
}
